{
  "nbformat": 4,
  "nbformat_minor": 0,
  "metadata": {
    "colab": {
      "provenance": [],
      "gpuType": "V28",
      "authorship_tag": "ABX9TyN4SiwnAtuiQb8DlHEEcdvH",
      "include_colab_link": true
    },
    "kernelspec": {
      "name": "python3",
      "display_name": "Python 3"
    },
    "language_info": {
      "name": "python"
    },
    "accelerator": "TPU"
  },
  "cells": [
    {
      "cell_type": "markdown",
      "metadata": {
        "id": "view-in-github",
        "colab_type": "text"
      },
      "source": [
        "<a href=\"https://colab.research.google.com/github/Ram2005-ui/us_accidents_data_analysis/blob/main/Assignment_1.ipynb\" target=\"_parent\"><img src=\"https://colab.research.google.com/assets/colab-badge.svg\" alt=\"Open In Colab\"/></a>"
      ]
    },
    {
      "cell_type": "markdown",
      "source": [
        "Assignment-1"
      ],
      "metadata": {
        "id": "VWrRkLh9TtyF"
      }
    },
    {
      "cell_type": "code",
      "source": [
        "\n",
        "from google.colab import drive\n",
        "drive.mount('/content/drive')\n"
      ],
      "metadata": {
        "colab": {
          "base_uri": "https://localhost:8080/"
        },
        "id": "Wem1-6RhT6ZY",
        "outputId": "0728dd12-1d9b-420c-afdb-a23507f6ce5f"
      },
      "execution_count": 1,
      "outputs": [
        {
          "output_type": "stream",
          "name": "stdout",
          "text": [
            "Mounted at /content/drive\n"
          ]
        }
      ]
    },
    {
      "cell_type": "code",
      "source": [
        "import pandas as pd\n",
        "import matplotlib.pyplot as plt\n",
        "df = pd.read_csv(\"/content/drive/MyDrive/data/US_Accidents_March23.csv\")\n",
        "print(\"Dataset shape:\", df.shape)"
      ],
      "metadata": {
        "colab": {
          "base_uri": "https://localhost:8080/"
        },
        "id": "ssWMK9y7VWpS",
        "outputId": "c14b862a-77f5-4e71-c283-972a0de57eee"
      },
      "execution_count": 3,
      "outputs": [
        {
          "output_type": "stream",
          "name": "stdout",
          "text": [
            "Dataset shape: (7728394, 46)\n"
          ]
        }
      ]
    },
    {
      "cell_type": "markdown",
      "source": [
        "1.How many unique values are there in categorical columns like City, State, and Weather_Condition? Which category is the most frequent in each?"
      ],
      "metadata": {
        "id": "xpbvOPhgVya_"
      }
    },
    {
      "cell_type": "code",
      "source": [
        "\n",
        "unique_city = df['City'].nunique()\n",
        "unique_state = df['State'].nunique()\n",
        "unique_weather = df['Weather_Condition'].nunique()\n",
        "\n",
        "print(\"Unique Cities:\", unique_city)\n",
        "print(\"Unique States:\", unique_state)\n",
        "print(\"Unique Weather Conditions:\", unique_weather)\n",
        "\n",
        "\n",
        "top_city = df['City'].value_counts().idxmax()\n",
        "top_state = df['State'].value_counts().idxmax()\n",
        "top_weather = df['Weather_Condition'].value_counts().idxmax()\n",
        "\n",
        "print(\"Most Frequent City:\", top_city)\n",
        "print(\"Most Frequent State:\", top_state)\n",
        "print(\"Most Frequent Weather Condition:\", top_weather)\n"
      ],
      "metadata": {
        "colab": {
          "base_uri": "https://localhost:8080/"
        },
        "id": "WemWrBfNV30A",
        "outputId": "e5f186c7-6032-459e-9eae-ad2775b0ef99"
      },
      "execution_count": 4,
      "outputs": [
        {
          "output_type": "stream",
          "name": "stdout",
          "text": [
            "Unique Cities: 13678\n",
            "Unique States: 49\n",
            "Unique Weather Conditions: 144\n",
            "Most Frequent City: Miami\n",
            "Most Frequent State: CA\n",
            "Most Frequent Weather Condition: Fair\n"
          ]
        }
      ]
    },
    {
      "cell_type": "markdown",
      "source": [
        "2.Calculate the percentage of missing values in each column and list columns with more than 5% missing data."
      ],
      "metadata": {
        "id": "GYy8ux11UabV"
      }
    },
    {
      "cell_type": "code",
      "source": [
        "\n",
        "missing_percent = df.isnull().mean() * 100\n",
        "print(\"Missing values (% in each column):\\n\")\n",
        "print(missing_percent.sort_values(ascending=False))\n",
        "print(\"\\n Columns with > 5% missing values:\\n\")\n",
        "print(missing_percent[missing_percent > 5].sort_values(ascending=False))\n"
      ],
      "metadata": {
        "colab": {
          "base_uri": "https://localhost:8080/"
        },
        "id": "uuI68JykUfgH",
        "outputId": "84f0dc09-889e-4a6a-cd7f-3d98a9ecd297"
      },
      "execution_count": 10,
      "outputs": [
        {
          "output_type": "stream",
          "name": "stdout",
          "text": [
            "Missing values (% in each column):\n",
            "\n",
            "End_Lng                  48.713686\n",
            "End_Lat                  48.713686\n",
            "Precipitation(in)        31.101791\n",
            "Wind_Chill(F)            28.260853\n",
            "Wind_Speed(mph)           7.864783\n",
            "Visibility(mi)            2.263362\n",
            "Weather_Condition         2.225582\n",
            "Humidity(%)               2.223893\n",
            "Wind_Direction            2.196764\n",
            "Temperature(F)            2.091385\n",
            "Pressure(in)              1.792969\n",
            "Weather_Timestamp         1.520480\n",
            "Airport_Code              0.274179\n",
            "Sunrise_Sunset            0.251388\n",
            "Astronomical_Twilight     0.251388\n",
            "Nautical_Twilight         0.251388\n",
            "Civil_Twilight            0.251388\n",
            "Street                    0.121313\n",
            "Timezone                  0.097134\n",
            "Zipcode                   0.024008\n",
            "City                      0.003235\n",
            "Description               0.000072\n",
            "ID                        0.000000\n",
            "Distance(mi)              0.000000\n",
            "Start_Lng                 0.000000\n",
            "Source                    0.000000\n",
            "Severity                  0.000000\n",
            "Start_Time                0.000000\n",
            "End_Time                  0.000000\n",
            "Start_Lat                 0.000000\n",
            "County                    0.000000\n",
            "Amenity                   0.000000\n",
            "Country                   0.000000\n",
            "State                     0.000000\n",
            "Bump                      0.000000\n",
            "Crossing                  0.000000\n",
            "Give_Way                  0.000000\n",
            "Junction                  0.000000\n",
            "Station                   0.000000\n",
            "Roundabout                0.000000\n",
            "Railway                   0.000000\n",
            "No_Exit                   0.000000\n",
            "Turning_Loop              0.000000\n",
            "Traffic_Signal            0.000000\n",
            "Traffic_Calming           0.000000\n",
            "Stop                      0.000000\n",
            "dtype: float64\n",
            "\n",
            " Columns with > 5% missing values:\n",
            "\n",
            "End_Lat              48.713686\n",
            "End_Lng              48.713686\n",
            "Precipitation(in)    31.101791\n",
            "Wind_Chill(F)        28.260853\n",
            "Wind_Speed(mph)       7.864783\n",
            "dtype: float64\n"
          ]
        }
      ]
    },
    {
      "cell_type": "markdown",
      "source": [
        "3.Convert Start_Time and End_Time columns to datetime objects. Find the range (earliest and latest) of accident start times in the dataset."
      ],
      "metadata": {
        "id": "g2XD1OgPWTPn"
      }
    },
    {
      "cell_type": "code",
      "source": [
        "\n",
        "df['Start_Time'] = pd.to_datetime(df['Start_Time'], errors='coerce')\n",
        "df['End_Time']   = pd.to_datetime(df['End_Time'], errors='coerce')\n",
        "df = df.dropna(subset=['Start_Time'])\n",
        "earliest = df['Start_Time'].min()\n",
        "latest   = df['Start_Time'].max()\n",
        "time_range = latest - earliest\n",
        "\n",
        "print(\"Earliest Accident Start:\", earliest)\n",
        "print(\"Latest Accident Start:\", latest)\n",
        "print(\"Range of Accident Start Times:\", time_range)\n"
      ],
      "metadata": {
        "colab": {
          "base_uri": "https://localhost:8080/"
        },
        "id": "_CSb1pDaW1rs",
        "outputId": "4cdd84f9-3473-4ea6-edfe-159ba057f561"
      },
      "execution_count": 16,
      "outputs": [
        {
          "output_type": "stream",
          "name": "stdout",
          "text": [
            "Earliest Accident Start: 2016-01-14 20:18:33\n",
            "Latest Accident Start: 2023-03-31 23:30:00\n",
            "Range of Accident Start Times: 2633 days 03:11:27\n"
          ]
        }
      ]
    },
    {
      "cell_type": "markdown",
      "source": [
        "4.Identify any duplicate records in the dataset based on all columns. How many duplicates exist and how will you handle them?"
      ],
      "metadata": {
        "id": "zX9IajIUXDfm"
      }
    },
    {
      "cell_type": "code",
      "source": [
        "\n",
        "duplicates = df.duplicated().sum()\n",
        "print(\"Number of duplicate rows:\", duplicates)\n",
        "if duplicates > 0:\n",
        "    print(\"\\nExample duplicate rows:\\n\", df[df.duplicated()].head())\n",
        "df = df.drop_duplicates()\n"
      ],
      "metadata": {
        "colab": {
          "base_uri": "https://localhost:8080/"
        },
        "id": "OstN-mYeXJWH",
        "outputId": "fae0c671-ec2a-4235-dfc9-be48eb0165f7"
      },
      "execution_count": 15,
      "outputs": [
        {
          "output_type": "stream",
          "name": "stdout",
          "text": [
            "Number of duplicate rows: 0\n"
          ]
        }
      ]
    },
    {
      "cell_type": "markdown",
      "source": [
        "5.Explore the distribution of accident severity (Severity column). What percentage of accidents belong to each severity level? Visualize this distribution with a pie chart."
      ],
      "metadata": {
        "id": "KrOxGpe0XvwG"
      }
    },
    {
      "cell_type": "code",
      "source": [
        "\n",
        "severity_percent = (df['Severity'].value_counts(normalize=True).sort_index() * 100)\n",
        "print(\"Severity Distribution (%):\\n\", severity_percent)\n",
        "plt.figure(figsize=(6,6))\n",
        "plt.pie(severity_percent,labels=severity_percent.index,autopct=\"%.1f%%\",startangle=90,colors=plt.cm.Set3.colors)\n",
        "plt.title(\"Accident Severity Distribution\")\n",
        "plt.show()\n"
      ],
      "metadata": {
        "colab": {
          "base_uri": "https://localhost:8080/",
          "height": 642
        },
        "id": "Fwdnqz2vX3Zn",
        "outputId": "f5261f16-29c3-4e6b-b300-31ffd7e7af10"
      },
      "execution_count": 14,
      "outputs": [
        {
          "output_type": "stream",
          "name": "stdout",
          "text": [
            "Severity Distribution (%):\n",
            " Severity\n",
            "1     0.964378\n",
            "2    77.790990\n",
            "3    18.600066\n",
            "4     2.644567\n",
            "Name: proportion, dtype: float64\n"
          ]
        },
        {
          "output_type": "display_data",
          "data": {
            "text/plain": [
              "<Figure size 600x600 with 1 Axes>"
            ],
            "image/png": "[encoded data removed]"
          },
          "metadata": {}
        }
      ]
    }
  ]
}
